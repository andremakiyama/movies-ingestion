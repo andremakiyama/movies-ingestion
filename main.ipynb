{
 "cells": [
  {
   "cell_type": "code",
   "execution_count": 4,
   "metadata": {},
   "outputs": [],
   "source": [
    "import logging as log\n",
    "from time import gmtime, strftime\n",
    "import module.movies_api_consumption as apirequest\n",
    "import json\n",
    "from sys import argv, exit\n",
    "import flask"
   ]
  },
  {
   "cell_type": "code",
   "execution_count": 2,
   "metadata": {},
   "outputs": [],
   "source": [
    "ts = gmtime()\n",
    "datetime=strftime(\"%Y%m%d_%H%M%S\", ts)\n",
    "\n",
    "log.basicConfig(filename='logs/moviesapiconsumption_' + datetime + '.log',format='%(asctime)s %(levelname)-8s %(message)s',level=log.DEBUG,datefmt='%Y-%m-%d %H:%M:%S')"
   ]
  },
  {
   "cell_type": "code",
   "execution_count": 3,
   "metadata": {},
   "outputs": [],
   "source": [
    "log.info(\"Mounting request string\")\n",
    "key='3a759be71aa9bae9de1e0621d0ef7f14'"
   ]
  },
  {
   "cell_type": "code",
   "execution_count": null,
   "metadata": {},
   "outputs": [],
   "source": [
    "#TODO: Receive parameter with sys.argv\n",
    "# path = argv[1]\n",
    "path='now_playing'"
   ]
  },
  {
   "cell_type": "code",
   "execution_count": 4,
   "metadata": {},
   "outputs": [
    {
     "name": "stdout",
     "output_type": "stream",
     "text": [
      "API Consumption string: https://api.themoviedb.org/3/movie/now_playing?api_key=3a759be71aa9bae9de1e0621d0ef7f14\n"
     ]
    }
   ],
   "source": [
    "response = apirequest.getapidata(path,key,log)\n",
    "log.info(\"Executing API request\")"
   ]
  },
  {
   "cell_type": "code",
   "execution_count": 5,
   "metadata": {},
   "outputs": [],
   "source": [
    "api_results = \"\""
   ]
  },
  {
   "cell_type": "code",
   "execution_count": 6,
   "metadata": {},
   "outputs": [],
   "source": [
    "try:\n",
    "    api_results = response.json()['results']\n",
    "    if len(api_results) <= 0:\n",
    "        system.exit(2) #dados não encontrados\n",
    "except Exception as e:\n",
    "    log.error(\"e\")\n",
    "    exit(99)"
   ]
  },
  {
   "cell_type": "code",
   "execution_count": 7,
   "metadata": {},
   "outputs": [
    {
     "data": {
      "text/plain": [
       "{'popularity': 619.889,\n",
       " 'vote_count': 5228,\n",
       " 'video': False,\n",
       " 'poster_path': '/udDclJoHjfjb8Ekgsd4FDteOkCU.jpg',\n",
       " 'id': 475557,\n",
       " 'adult': False,\n",
       " 'backdrop_path': '/n6bUvigpRFqSwmPp1m2YADdbRBc.jpg',\n",
       " 'original_language': 'en',\n",
       " 'original_title': 'Joker',\n",
       " 'genre_ids': [80, 18, 53],\n",
       " 'title': 'Joker',\n",
       " 'vote_average': 8.5,\n",
       " 'overview': 'During the 1980s, a failed stand-up comedian is driven insane and turns to a life of crime and chaos in Gotham City while becoming an infamous psychopathic crime figure.',\n",
       " 'release_date': '2019-10-04'}"
      ]
     },
     "execution_count": 7,
     "metadata": {},
     "output_type": "execute_result"
    }
   ],
   "source": [
    "api_results[0]"
   ]
  },
  {
   "cell_type": "code",
   "execution_count": null,
   "metadata": {},
   "outputs": [],
   "source": []
  }
 ],
 "metadata": {
  "kernelspec": {
   "display_name": "Python 3",
   "language": "python",
   "name": "python3"
  },
  "language_info": {
   "codemirror_mode": {
    "name": "ipython",
    "version": 3
   },
   "file_extension": ".py",
   "mimetype": "text/x-python",
   "name": "python",
   "nbconvert_exporter": "python",
   "pygments_lexer": "ipython3",
   "version": "3.7.4"
  }
 },
 "nbformat": 4,
 "nbformat_minor": 2
}
